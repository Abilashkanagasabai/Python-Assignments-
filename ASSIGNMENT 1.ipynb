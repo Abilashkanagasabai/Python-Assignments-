{
 "cells": [
  {
   "cell_type": "markdown",
   "metadata": {},
   "source": [
    "# ASSIGNMENT 1\n"
   ]
  },
  {
   "cell_type": "code",
   "execution_count": 2,
   "metadata": {},
   "outputs": [
    {
     "name": "stdout",
     "output_type": "stream",
     "text": [
      "HI MY NAME IS ABILASH \n"
     ]
    }
   ],
   "source": [
    "#TASK1\n",
    "#1\n",
    "print(\"HI MY NAME IS ABILASH \")"
   ]
  },
  {
   "cell_type": "code",
   "execution_count": 3,
   "metadata": {},
   "outputs": [
    {
     "name": "stdout",
     "output_type": "stream",
     "text": [
      "2002,2009,2023,2030,2044,2051,2065,2072,2086,2093,2107,2114,2128,2135,2149,2156,2170,2177,2191,2198,2212,2219,2233,2240,2254,2261,2275,2282,2296,2303,2317,2324,2338,2345,2359,2366,2380,2387,2401,2408,2422,2429,2443,2450,2464,2471,2485,2492,2506,2513,2527,2534,2548,2555,2569,2576,2590,2597,2611,2618,2632,2639,2653,2660,2674,2681,2695,2702,2716,2723,2737,2744,2758,2765,2779,2786,2800,2807,2821,2828,2842,2849,2863,2870,2884,2891,2905,2912,2926,2933,2947,2954,2968,2975,2989,2996,3010,3017,3031,3038,3052,3059,3073,3080,3094,3101,3115,3122,3136,3143,3157,3164,3178,3185,3199\n"
     ]
    }
   ],
   "source": [
    "#2\n",
    "n=[]\n",
    "for i in range(2000,3201):\n",
    "    if i%7==0 and i%3!=0:\n",
    "        n.append(str(i))\n",
    "print(','.join(n))"
   ]
  },
  {
   "cell_type": "code",
   "execution_count": 5,
   "metadata": {},
   "outputs": [
    {
     "name": "stdout",
     "output_type": "stream",
     "text": [
      "Input your First Name : abilash\n",
      "Input your Last Name : kanagasabai\n",
      "Hello  iabasaganak hsaliba\n"
     ]
    }
   ],
   "source": [
    "#3\n",
    "fn = input(\"Input your First Name : \")\n",
    "ln = input(\"Input your Last Name : \")\n",
    "print (\"Hello  \" +ln[::-1] + \" \" + fn[::-1])"
   ]
  },
  {
   "cell_type": "code",
   "execution_count": 10,
   "metadata": {},
   "outputs": [
    {
     "name": "stdout",
     "output_type": "stream",
     "text": [
      "The volume of the sphere is:  7238.229473870882 cubic cm\n"
     ]
    }
   ],
   "source": [
    "#4\n",
    "from math import *\n",
    "r=12\n",
    "V= (4.0/3.0*pi* r**3)\n",
    "print('The volume of the sphere is: ',V,\"cubic cm\")"
   ]
  },
  {
   "cell_type": "code",
   "execution_count": 21,
   "metadata": {},
   "outputs": [
    {
     "name": "stdout",
     "output_type": "stream",
     "text": [
      "enter the numbers(separated by comma)1,2,3,4,5,6,7,8,9,10\n",
      "['1', '2', '3', '4', '5', '6', '7', '8', '9', '10']\n"
     ]
    }
   ],
   "source": [
    "#TASK2\n",
    "#1\n",
    "\n",
    "lis=input(\"enter the numbers(separated by comma)\")\n",
    "\n",
    "lis=lis.split(\",\")\n",
    "\n",
    "print(lis)\n"
   ]
  },
  {
   "cell_type": "code",
   "execution_count": 33,
   "metadata": {},
   "outputs": [
    {
     "name": "stdout",
     "output_type": "stream",
     "text": [
      "\n",
      "* \n",
      "* * \n",
      "* * * \n",
      "* * * * \n",
      "* * * * * \n",
      "* * * * \n",
      "* * * \n",
      "* * \n",
      "* \n"
     ]
    }
   ],
   "source": [
    "#2\n",
    "n=5;\n",
    "for i in range(n):\n",
    "    for j in range(i):\n",
    "        print ('* ', end=\"\")\n",
    "    print('')\n",
    "\n",
    "for i in range(n,0,-1):\n",
    "    for j in range(i):\n",
    "        print('* ', end=\"\")\n",
    "    print('')"
   ]
  },
  {
   "cell_type": "code",
   "execution_count": 28,
   "metadata": {},
   "outputs": [
    {
     "name": "stdout",
     "output_type": "stream",
     "text": [
      "enter your name: abilash\n",
      "hsaliba\n"
     ]
    }
   ],
   "source": [
    "#3\n",
    "name=input(\"enter your name: \")\n",
    "rev_name=''\n",
    "for i in name:\n",
    "    rev_name=i+rev_name\n",
    "print(rev_name)\n",
    "    "
   ]
  },
  {
   "cell_type": "code",
   "execution_count": 34,
   "metadata": {},
   "outputs": [
    {
     "name": "stdout",
     "output_type": "stream",
     "text": [
      "WE, THE PEOPLE OF INDIA,\n",
      "\thaving solemnly resolved to constitute India into a SOVEREIGN,!\n",
      "\t\tSOCIALIST, SECULAR, DEMOCRATIC REPUBLIC\n",
      "\t\t and to secure to all its citizens:\n"
     ]
    }
   ],
   "source": [
    "#4\n",
    "string = \"WE, THE PEOPLE OF INDIA,{}having solemnly resolved to constitute India into a SOVEREIGN,{}SOCIALIST, SECULAR, DEMOCRATIC REPUBLIC{}and to secure to all its citizens{}\"\n",
    "print(string.format('\\n\\t','!\\n\\t\\t','\\n\\t\\t ',':'))"
   ]
  },
  {
   "cell_type": "code",
   "execution_count": null,
   "metadata": {},
   "outputs": [],
   "source": []
  }
 ],
 "metadata": {
  "kernelspec": {
   "display_name": "Python 3",
   "language": "python",
   "name": "python3"
  },
  "language_info": {
   "codemirror_mode": {
    "name": "ipython",
    "version": 3
   },
   "file_extension": ".py",
   "mimetype": "text/x-python",
   "name": "python",
   "nbconvert_exporter": "python",
   "pygments_lexer": "ipython3",
   "version": "3.7.1"
  }
 },
 "nbformat": 4,
 "nbformat_minor": 2
}
